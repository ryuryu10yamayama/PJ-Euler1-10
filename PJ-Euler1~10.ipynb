{
 "cells": [
  {
   "cell_type": "markdown",
   "metadata": {},
   "source": [
    "# problem 1\n",
    "10未満の自然数のうち, 3 もしくは 5 の倍数になっているものは 3, 5, 6, 9 の4つがあり, これらの合計は 23 になる.\n",
    "同じようにして, 1000 未満の 3 か 5 の倍数になっている数字の合計を求めよ."
   ]
  },
  {
   "cell_type": "code",
   "execution_count": 3,
   "metadata": {},
   "outputs": [
    {
     "name": "stdout",
     "output_type": "stream",
     "text": [
      "233168\n"
     ]
    }
   ],
   "source": [
    "num_list = [num if (num%3 == 0)or(num%5 == 0) else 0 for num in range(1,1000)]\n",
    "print(sum(num_list))       "
   ]
  },
  {
   "cell_type": "markdown",
   "metadata": {},
   "source": [
    "# problem 2\n",
    "フィボナッチ数列の項は前の2つの項の和である. 最初の2項を 1, 2 とすれば, 最初の10項は以下の通りである.\n",
    "\n",
    "1, 2, 3, 5, 8, 13, 21, 34, 55, 89, ...\n",
    "数列の項の値が400万以下の, 偶数値の項の総和を求めよ."
   ]
  },
  {
   "cell_type": "code",
   "execution_count": 14,
   "metadata": {},
   "outputs": [
    {
     "name": "stdout",
     "output_type": "stream",
     "text": [
      "4613732\n"
     ]
    }
   ],
   "source": [
    "num_list = [1,2]\n",
    "max_num = 4000000\n",
    "num_1 = 0\n",
    "num_2 = 1\n",
    "    \n",
    "while num_list[-1] <= max_num:\n",
    "    add_num = num_list[num_1]+num_list[num_2]\n",
    "    num_list.append(add_num)\n",
    "    num_1 += 1\n",
    "    num_2 += 1\n",
    "    \n",
    "print(sum([num if num%2 == 0 else 0 for num in num_list[:-1]]))"
   ]
  },
  {
   "cell_type": "markdown",
   "metadata": {},
   "source": [
    "# problem 3\n",
    "13195の素因数は5、7、13、29である。\n",
    "600851475143の素因数のうち最大のものを求めよ。"
   ]
  },
  {
   "cell_type": "code",
   "execution_count": 19,
   "metadata": {},
   "outputs": [
    {
     "name": "stdout",
     "output_type": "stream",
     "text": [
      "6857\n"
     ]
    }
   ],
   "source": [
    "import sympy\n",
    "\n",
    "target_num = 600851475143\n",
    "temp_list = []\n",
    "for k,v in sympy.factorint(target_num).items():\n",
    "    temp_list.append(k)\n",
    "    \n",
    "print(max(temp_list))"
   ]
  },
  {
   "cell_type": "markdown",
   "metadata": {},
   "source": [
    "# problem 4\n",
    "左右どちらから読んでも同じ値になる数を回文数という. 2桁の数の積で表される回文数のうち, 最大のものは 9009 = 91 × 99 である.\n",
    "\n",
    "では, 3桁の数の積で表される回文数の最大値を求めよ."
   ]
  },
  {
   "cell_type": "code",
   "execution_count": 13,
   "metadata": {},
   "outputs": [
    {
     "name": "stdout",
     "output_type": "stream",
     "text": [
      "906609\n"
     ]
    }
   ],
   "source": [
    "max_num = 1000\n",
    "\n",
    "pal_list = []\n",
    "for n1 in range(100,max_num):\n",
    "    for n2 in range(n1,max_num):\n",
    "        mul = str(n1*n2)\n",
    "        if mul == mul[::-1]:\n",
    "            pal_list.append(int(mul))\n",
    "        else:\n",
    "            continue\n",
    "            \n",
    "print(max(pal_list))"
   ]
  },
  {
   "cell_type": "markdown",
   "metadata": {},
   "source": [
    "# problem 5\n",
    "2520 は 1 から 10 の数字の全ての整数で割り切れる数字であり, そのような数字の中では最小の値である.\n",
    "\n",
    "では, 1 から 20 までの整数全てで割り切れる数字の中で最小の正の数はいくらになるか."
   ]
  },
  {
   "cell_type": "code",
   "execution_count": 4,
   "metadata": {},
   "outputs": [
    {
     "name": "stdout",
     "output_type": "stream",
     "text": [
      "232792560\n"
     ]
    }
   ],
   "source": [
    "max_num = 20\n",
    "ans = 1\n",
    "\n",
    "#最大公約数(ユークリッド互除法)\n",
    "def gcd(a, b):\n",
    "    while b:\n",
    "        a, b = b, a % b\n",
    "    return a\n",
    "\n",
    "#最小公倍数\n",
    "def lcm(a, b):\n",
    "    return a * b // gcd(a, b)\n",
    "\n",
    "for i in range(1, max_num + 1):\n",
    "    ans = lcm(i, ans)\n",
    "\n",
    "print(ans)"
   ]
  },
  {
   "cell_type": "markdown",
   "metadata": {},
   "source": [
    "# problem 6\n",
    "最初の10個の自然数について、その二乗の和は、\n",
    "\n",
    "1 2 + 2 2 + ... + 10 2 = 385\n",
    "最初の10個の自然数について、その和の二乗は、\n",
    "\n",
    "（1 + 2 + ... + 10）2 = 3025\n",
    "これらの数の差は3025-385 = 2640となる。\n",
    "\n",
    "同様にして、最初の100個の自然数について二乗の和と和の二乗の差を求めよ。"
   ]
  },
  {
   "cell_type": "code",
   "execution_count": 1,
   "metadata": {},
   "outputs": [
    {
     "name": "stdout",
     "output_type": "stream",
     "text": [
      "25164150\n"
     ]
    }
   ],
   "source": [
    "import numpy as np\n",
    "\n",
    "all_num = np.arange(1,101)\n",
    "x2_list = []\n",
    "for n in all_num:\n",
    "    x2_list.append(n**2)\n",
    "\n",
    "print(sum(all_num)**2-sum(x2_list))"
   ]
  },
  {
   "cell_type": "markdown",
   "metadata": {},
   "source": [
    "# problem 7\n",
    "素数を小さい方から6つ並べると 2, 3, 5, 7, 11, 13 であり, 6番目の素数は 13 である.\n",
    "\n",
    "10 001 番目の素数を求めよ."
   ]
  },
  {
   "cell_type": "code",
   "execution_count": 11,
   "metadata": {},
   "outputs": [
    {
     "name": "stdout",
     "output_type": "stream",
     "text": [
      "104743\n"
     ]
    }
   ],
   "source": [
    "target_num = 10001\n",
    "primes = [2]\n",
    "i = 3\n",
    "while len(primes) < target_num:\n",
    "    for p in primes:\n",
    "        if i%p == 0:\n",
    "            break\n",
    "    else:\n",
    "        primes += [i]\n",
    "    i += 2\n",
    "\n",
    "print(primes[-1])"
   ]
  },
  {
   "cell_type": "markdown",
   "metadata": {},
   "source": [
    "# problem 8\n",
    "次の1000桁の数字のうち, 隣接する4つの数字の総乗の中で, 最大となる値は, 9 × 9 × 8 × 9 = 5832である.\n",
    "\n",
    "73167176531330624919225119674426574742355349194934\n",
    "96983520312774506326239578318016984801869478851843\n",
    "85861560789112949495459501737958331952853208805511\n",
    "12540698747158523863050715693290963295227443043557\n",
    "66896648950445244523161731856403098711121722383113\n",
    "62229893423380308135336276614282806444486645238749\n",
    "30358907296290491560440772390713810515859307960866\n",
    "70172427121883998797908792274921901699720888093776\n",
    "65727333001053367881220235421809751254540594752243\n",
    "52584907711670556013604839586446706324415722155397\n",
    "53697817977846174064955149290862569321978468622482\n",
    "83972241375657056057490261407972968652414535100474\n",
    "82166370484403199890008895243450658541227588666881\n",
    "16427171479924442928230863465674813919123162824586\n",
    "17866458359124566529476545682848912883142607690042\n",
    "24219022671055626321111109370544217506941658960408\n",
    "07198403850962455444362981230987879927244284909188\n",
    "84580156166097919133875499200524063689912560717606\n",
    "05886116467109405077541002256983155200055935729725\n",
    "71636269561882670428252483600823257530420752963450\n",
    "\n",
    "この1000桁の数字から13個の連続する数字を取り出して, それらの総乗を計算する. では、それら総乗のうち、最大となる値はいくらか.\n",
    "EX 6桁の数123789から5個の連続する数字を取り出す場合, 12378と23789の二通りとなり, 後者の2_3_7_8_9=3024が最大の総乗となる."
   ]
  },
  {
   "cell_type": "code",
   "execution_count": 5,
   "metadata": {},
   "outputs": [
    {
     "name": "stdout",
     "output_type": "stream",
     "text": [
      "23514624000\n"
     ]
    }
   ],
   "source": [
    "num = '731671765313306249192251196744265747423553491949349698352031277450632623957831801698480186'\\\n",
    "      '947885184385861560789112949495459501737958331952853208805511125406987471585238630507156932'\\\n",
    "      '909632952274430435576689664895044524452316173185640309871112172238311362229893423380308135'\\\n",
    "    '3362766142828064444866452387493035890729629049156044077239071381051585930796086670172427121'\\\n",
    "    '8839987979087922749219016997208880937766572733300105336788122023542180975125454059475224352'\\\n",
    "    '584907711670556013604839586446706324415722155397536978179778461740649551492908625693219784'\\\n",
    "    '6862248283972241375657056057490261407972968652414535100474821663704844031998900088952434'\\\n",
    "    '506585412275886668811642717147992444292823086346567481391912316282458617866458359124566529'\\\n",
    "    '47654568284891288314260769004224219022671055626321111109370544217506941658960408071984038'\\\n",
    "    '5096245544436298123098787992724428490918884580156166097919133875499200524063689912560717'\\\n",
    "    '6060588611646710940507754100225698315520005593572972571636269561882670428252483600823257530420752963450'\n",
    "\n",
    "target_num = 13\n",
    "max_num = 0\n",
    "for i in range(len(num)-target_num):\n",
    "    mul = 1\n",
    "    for j in range(target_num):\n",
    "        mul *= int(num[i+j])\n",
    "    if max_num < mul:\n",
    "        max_num = mul\n",
    "print(max_num)"
   ]
  },
  {
   "cell_type": "markdown",
   "metadata": {},
   "source": [
    "# problem 9\n",
    "ピタゴラス数（ピタゴラスの定理を満たす自然数）とはa < b < cで以下の式を満たす数の組である\n",
    "\n",
    "a＊＊2 + b＊＊2 = c＊＊2\n",
    "\n",
    "例えば、3＊＊2 + 4＊＊2 = 9 + 16 = 25 = 5＊＊2である。\n",
    "\n",
    "a + b + c = 1000となる\n",
    "ピタゴラスの三つ組が一つだけ存在する。これらの積abcを計算しなさい。"
   ]
  },
  {
   "cell_type": "code",
   "execution_count": 8,
   "metadata": {},
   "outputs": [
    {
     "name": "stdout",
     "output_type": "stream",
     "text": [
      "31875000\n"
     ]
    }
   ],
   "source": [
    "ans = 0\n",
    "for a in range(1,999):\n",
    "    for b in range(1,999-a):\n",
    "        c = 1000-a-b\n",
    "        \n",
    "        if a**2 + b**2 == c**2:\n",
    "            ans = a*b*c\n",
    "print(ans)"
   ]
  },
  {
   "cell_type": "markdown",
   "metadata": {},
   "source": [
    "# problem 10\n",
    "10以下の素数の和は2 + 3 + 5 + 7 = 17である。\n",
    "\n",
    "200万以下の全ての素数の和を求めよ。"
   ]
  },
  {
   "cell_type": "code",
   "execution_count": 4,
   "metadata": {},
   "outputs": [
    {
     "name": "stdout",
     "output_type": "stream",
     "text": [
      "142913828922\n"
     ]
    }
   ],
   "source": [
    "import sympy\n",
    "\n",
    "prime_list = []\n",
    "prime_ge = sympy.primerange(2, 2000000)\n",
    "prime_list = list(prime_ge)\n",
    "\n",
    "print(sum(prime_list))"
   ]
  },
  {
   "cell_type": "code",
   "execution_count": null,
   "metadata": {},
   "outputs": [],
   "source": []
  },
  {
   "cell_type": "code",
   "execution_count": null,
   "metadata": {},
   "outputs": [],
   "source": []
  },
  {
   "cell_type": "code",
   "execution_count": null,
   "metadata": {},
   "outputs": [],
   "source": []
  },
  {
   "cell_type": "code",
   "execution_count": null,
   "metadata": {},
   "outputs": [],
   "source": []
  },
  {
   "cell_type": "code",
   "execution_count": null,
   "metadata": {},
   "outputs": [],
   "source": []
  }
 ],
 "metadata": {
  "kernelspec": {
   "display_name": "Python 3",
   "language": "python",
   "name": "python3"
  },
  "language_info": {
   "codemirror_mode": {
    "name": "ipython",
    "version": 3
   },
   "file_extension": ".py",
   "mimetype": "text/x-python",
   "name": "python",
   "nbconvert_exporter": "python",
   "pygments_lexer": "ipython3",
   "version": "3.7.3"
  }
 },
 "nbformat": 4,
 "nbformat_minor": 2
}
